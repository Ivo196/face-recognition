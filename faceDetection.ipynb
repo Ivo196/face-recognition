{
 "cells": [
  {
   "cell_type": "markdown",
   "metadata": {},
   "source": [
    "# Face Recognition "
   ]
  },
  {
   "cell_type": "markdown",
   "metadata": {},
   "source": [
    "#### Importamos Librerias"
   ]
  },
  {
   "cell_type": "code",
   "execution_count": 35,
   "metadata": {},
   "outputs": [],
   "source": [
    "import os \n",
    "import pandas as pd\n",
    "import numpy as np\n",
    "import tensorflow as tf\n",
    "from tensorflow.keras.models import Model \n",
    "from tensorflow.keras.layers import Input, Conv2D, MaxPooling2D, Flatten, Dense, Dropout\n",
    "import cv2\n",
    "import matplotlib.pyplot as plt\n",
    "from sklearn.model_selection import train_test_split"
   ]
  },
  {
   "cell_type": "markdown",
   "metadata": {},
   "source": [
    "#### Extraemos datos"
   ]
  },
  {
   "cell_type": "code",
   "execution_count": 36,
   "metadata": {},
   "outputs": [],
   "source": [
    "dataDir = 'dataset/part1/part1/'\n",
    "listImages = os.listdir(dataDir)\n",
    "\n",
    "map_characters = {\n",
    "    0: 'Male',\n",
    "    1: 'Female'\n",
    "}\n"
   ]
  },
  {
   "cell_type": "markdown",
   "metadata": {},
   "source": [
    "#### Creamos el Dataset"
   ]
  },
  {
   "cell_type": "code",
   "execution_count": 37,
   "metadata": {},
   "outputs": [],
   "source": [
    "images = []\n",
    "ages = []\n",
    "genders = []\n",
    "\n",
    "\n",
    "\n",
    "for filename in listImages:\n",
    "    file = filename.split('_')\n",
    "    age = file[0]\n",
    "    gender = file[1]\n",
    "    ages.append(age)\n",
    "    genders.append(gender)\n",
    "    if filename.endswith('.jpg'):\n",
    "        filePath = os.path.join(dataDir,filename)\n",
    "        image = cv2.imread(filePath)\n",
    "        if image is None:\n",
    "            print(f\"Error al leer la imagen: {filePath}\")\n",
    "            continue\n",
    "        image = cv2.cvtColor(image, cv2.COLOR_BGR2GRAY)\n",
    "        image= cv2.resize(image, (64,64))\n",
    "        images.append(image)"
   ]
  },
  {
   "cell_type": "markdown",
   "metadata": {},
   "source": [
    "#### Visualización de las imagenes"
   ]
  },
  {
   "cell_type": "code",
   "execution_count": 38,
   "metadata": {},
   "outputs": [
    {
     "data": {
      "image/png": "[encoded data removed]",
      "text/plain": [
       "<Figure size 640x480 with 1 Axes>"
      ]
     },
     "metadata": {},
     "output_type": "display_data"
    }
   ],
   "source": [
    "position = 155\n",
    "if images:\n",
    "    plt.title(f'Age: {ages[position]}   Gender: {genders[position]}')\n",
    "    plt.imshow(images[position], cmap='gray')\n",
    "    plt.show()"
   ]
  },
  {
   "cell_type": "markdown",
   "metadata": {},
   "source": [
    "#### Preprocesamiento"
   ]
  },
  {
   "cell_type": "code",
   "execution_count": 39,
   "metadata": {},
   "outputs": [],
   "source": [
    "# Convertimos a un array de numpy\n",
    "images = np.array(images)\n",
    "ages = np.array(ages, dtype=int)\n",
    "genders = np.array(genders, dtype=int)\n",
    "\n",
    "# Normalizamos de las imagenes\n",
    "images = images / 255\n"
   ]
  },
  {
   "cell_type": "markdown",
   "metadata": {},
   "source": [
    "#### Dividimos en conjunto de entrenamiento y test "
   ]
  },
  {
   "cell_type": "code",
   "execution_count": 40,
   "metadata": {},
   "outputs": [],
   "source": [
    "# Dividir los datos en entrenamiento y prueba\n",
    "X_train, X_test, y_train, y_test = train_test_split(images, genders, test_size=0.2, random_state=42)"
   ]
  },
  {
   "cell_type": "markdown",
   "metadata": {},
   "source": [
    "#### Arquitectura CNN"
   ]
  },
  {
   "cell_type": "code",
   "execution_count": 41,
   "metadata": {},
   "outputs": [
    {
     "name": "stderr",
     "output_type": "stream",
     "text": [
      "c:\\Users\\ivoto\\AppData\\Local\\Programs\\Python\\Python312\\venv\\Lib\\site-packages\\keras\\src\\layers\\convolutional\\base_conv.py:107: UserWarning: Do not pass an `input_shape`/`input_dim` argument to a layer. When using Sequential models, prefer using an `Input(shape)` object as the first layer in the model instead.\n",
      "  super().__init__(activity_regularizer=activity_regularizer, **kwargs)\n"
     ]
    }
   ],
   "source": [
    "# Construir un modelo simple de clasificación con TensorFlow\n",
    "model = tf.keras.Sequential([\n",
    "    tf.keras.layers.Conv2D(32, (3, 3), activation='relu', input_shape=(64,64,1)),\n",
    "    tf.keras.layers.MaxPooling2D((2, 2)),\n",
    "    tf.keras.layers.Conv2D(64, (3, 3), activation='relu', input_shape=(64,64,1)),\n",
    "    tf.keras.layers.MaxPooling2D((2, 2)),\n",
    "    tf.keras.layers.Flatten(),\n",
    "    tf.keras.layers.Dropout(0.3),\n",
    "    tf.keras.layers.Dense(128, activation='relu'),\n",
    "    tf.keras.layers.Dropout(0.3),\n",
    "    tf.keras.layers.Dense(1, activation='sigmoid')  # Supongo que tienes dos géneros\n",
    "])\n",
    "\n",
    "model.compile(optimizer='adam',\n",
    "              loss='binary_crossentropy',\n",
    "              metrics=['accuracy'])"
   ]
  },
  {
   "cell_type": "markdown",
   "metadata": {},
   "source": [
    "#### Entrenamos el modelo"
   ]
  },
  {
   "cell_type": "code",
   "execution_count": 42,
   "metadata": {},
   "outputs": [
    {
     "name": "stdout",
     "output_type": "stream",
     "text": [
      "Epoch 1/20\n",
      "\u001b[1m254/254\u001b[0m \u001b[32m━━━━━━━━━━━━━━━━━━━━\u001b[0m\u001b[37m\u001b[0m \u001b[1m7s\u001b[0m 25ms/step - accuracy: 0.5637 - loss: 0.6862 - val_accuracy: 0.6395 - val_loss: 0.6347\n",
      "Epoch 2/20\n",
      "\u001b[1m254/254\u001b[0m \u001b[32m━━━━━━━━━━━━━━━━━━━━\u001b[0m\u001b[37m\u001b[0m \u001b[1m6s\u001b[0m 25ms/step - accuracy: 0.6498 - loss: 0.6156 - val_accuracy: 0.6494 - val_loss: 0.6131\n",
      "Epoch 3/20\n",
      "\u001b[1m254/254\u001b[0m \u001b[32m━━━━━━━━━━━━━━━━━━━━\u001b[0m\u001b[37m\u001b[0m \u001b[1m6s\u001b[0m 25ms/step - accuracy: 0.6775 - loss: 0.5911 - val_accuracy: 0.6652 - val_loss: 0.5933\n",
      "Epoch 4/20\n",
      "\u001b[1m254/254\u001b[0m \u001b[32m━━━━━━━━━━━━━━━━━━━━\u001b[0m\u001b[37m\u001b[0m \u001b[1m6s\u001b[0m 25ms/step - accuracy: 0.7050 - loss: 0.5530 - val_accuracy: 0.6775 - val_loss: 0.5809\n",
      "Epoch 5/20\n",
      "\u001b[1m254/254\u001b[0m \u001b[32m━━━━━━━━━━━━━━━━━━━━\u001b[0m\u001b[37m\u001b[0m \u001b[1m6s\u001b[0m 25ms/step - accuracy: 0.7260 - loss: 0.5233 - val_accuracy: 0.6746 - val_loss: 0.6025\n",
      "Epoch 6/20\n",
      "\u001b[1m254/254\u001b[0m \u001b[32m━━━━━━━━━━━━━━━━━━━━\u001b[0m\u001b[37m\u001b[0m \u001b[1m6s\u001b[0m 25ms/step - accuracy: 0.7663 - loss: 0.4687 - val_accuracy: 0.6889 - val_loss: 0.5809\n",
      "Epoch 7/20\n",
      "\u001b[1m254/254\u001b[0m \u001b[32m━━━━━━━━━━━━━━━━━━━━\u001b[0m\u001b[37m\u001b[0m \u001b[1m6s\u001b[0m 25ms/step - accuracy: 0.8019 - loss: 0.4204 - val_accuracy: 0.6854 - val_loss: 0.6173\n",
      "Epoch 8/20\n",
      "\u001b[1m254/254\u001b[0m \u001b[32m━━━━━━━━━━━━━━━━━━━━\u001b[0m\u001b[37m\u001b[0m \u001b[1m6s\u001b[0m 25ms/step - accuracy: 0.8422 - loss: 0.3551 - val_accuracy: 0.6893 - val_loss: 0.6142\n",
      "Epoch 9/20\n",
      "\u001b[1m254/254\u001b[0m \u001b[32m━━━━━━━━━━━━━━━━━━━━\u001b[0m\u001b[37m\u001b[0m \u001b[1m6s\u001b[0m 25ms/step - accuracy: 0.8709 - loss: 0.2933 - val_accuracy: 0.6987 - val_loss: 0.6534\n",
      "Epoch 10/20\n",
      "\u001b[1m254/254\u001b[0m \u001b[32m━━━━━━━━━━━━━━━━━━━━\u001b[0m\u001b[37m\u001b[0m \u001b[1m6s\u001b[0m 25ms/step - accuracy: 0.8993 - loss: 0.2408 - val_accuracy: 0.6997 - val_loss: 0.6640\n",
      "Epoch 11/20\n",
      "\u001b[1m254/254\u001b[0m \u001b[32m━━━━━━━━━━━━━━━━━━━━\u001b[0m\u001b[37m\u001b[0m \u001b[1m6s\u001b[0m 25ms/step - accuracy: 0.9136 - loss: 0.2102 - val_accuracy: 0.6884 - val_loss: 0.7155\n",
      "Epoch 12/20\n",
      "\u001b[1m254/254\u001b[0m \u001b[32m━━━━━━━━━━━━━━━━━━━━\u001b[0m\u001b[37m\u001b[0m \u001b[1m6s\u001b[0m 25ms/step - accuracy: 0.9326 - loss: 0.1838 - val_accuracy: 0.7017 - val_loss: 0.7701\n",
      "Epoch 13/20\n",
      "\u001b[1m254/254\u001b[0m \u001b[32m━━━━━━━━━━━━━━━━━━━━\u001b[0m\u001b[37m\u001b[0m \u001b[1m6s\u001b[0m 25ms/step - accuracy: 0.9477 - loss: 0.1396 - val_accuracy: 0.7106 - val_loss: 0.8024\n",
      "Epoch 14/20\n",
      "\u001b[1m254/254\u001b[0m \u001b[32m━━━━━━━━━━━━━━━━━━━━\u001b[0m\u001b[37m\u001b[0m \u001b[1m6s\u001b[0m 25ms/step - accuracy: 0.9519 - loss: 0.1250 - val_accuracy: 0.6987 - val_loss: 0.8232\n",
      "Epoch 15/20\n",
      "\u001b[1m254/254\u001b[0m \u001b[32m━━━━━━━━━━━━━━━━━━━━\u001b[0m\u001b[37m\u001b[0m \u001b[1m7s\u001b[0m 26ms/step - accuracy: 0.9631 - loss: 0.1096 - val_accuracy: 0.6987 - val_loss: 0.8677\n",
      "Epoch 16/20\n",
      "\u001b[1m254/254\u001b[0m \u001b[32m━━━━━━━━━━━━━━━━━━━━\u001b[0m\u001b[37m\u001b[0m \u001b[1m6s\u001b[0m 25ms/step - accuracy: 0.9641 - loss: 0.1019 - val_accuracy: 0.6997 - val_loss: 0.9378\n",
      "Epoch 17/20\n",
      "\u001b[1m254/254\u001b[0m \u001b[32m━━━━━━━━━━━━━━━━━━━━\u001b[0m\u001b[37m\u001b[0m \u001b[1m6s\u001b[0m 25ms/step - accuracy: 0.9622 - loss: 0.1038 - val_accuracy: 0.7041 - val_loss: 0.9562\n",
      "Epoch 18/20\n",
      "\u001b[1m254/254\u001b[0m \u001b[32m━━━━━━━━━━━━━━━━━━━━\u001b[0m\u001b[37m\u001b[0m \u001b[1m6s\u001b[0m 25ms/step - accuracy: 0.9689 - loss: 0.0958 - val_accuracy: 0.6933 - val_loss: 0.9850\n",
      "Epoch 19/20\n",
      "\u001b[1m254/254\u001b[0m \u001b[32m━━━━━━━━━━━━━━━━━━━━\u001b[0m\u001b[37m\u001b[0m \u001b[1m6s\u001b[0m 25ms/step - accuracy: 0.9759 - loss: 0.0742 - val_accuracy: 0.7096 - val_loss: 1.0201\n",
      "Epoch 20/20\n",
      "\u001b[1m254/254\u001b[0m \u001b[32m━━━━━━━━━━━━━━━━━━━━\u001b[0m\u001b[37m\u001b[0m \u001b[1m6s\u001b[0m 25ms/step - accuracy: 0.9753 - loss: 0.0819 - val_accuracy: 0.6987 - val_loss: 0.9769\n"
     ]
    },
    {
     "data": {
      "text/plain": [
       "<keras.src.callbacks.history.History at 0x2077d029010>"
      ]
     },
     "execution_count": 42,
     "metadata": {},
     "output_type": "execute_result"
    }
   ],
   "source": [
    "# Entrenar el modelo\n",
    "model.fit(X_train, y_train, epochs=20, validation_data=(X_test, y_test))"
   ]
  },
  {
   "cell_type": "markdown",
   "metadata": {},
   "source": [
    "#### Evaluamos el modelo "
   ]
  },
  {
   "cell_type": "code",
   "execution_count": 56,
   "metadata": {},
   "outputs": [
    {
     "name": "stdout",
     "output_type": "stream",
     "text": [
      "\u001b[1m64/64\u001b[0m \u001b[32m━━━━━━━━━━━━━━━━━━━━\u001b[0m\u001b[37m\u001b[0m \u001b[1m1s\u001b[0m 6ms/step - accuracy: 0.7072 - loss: 1.0153\n",
      "Precisión en el conjunto de prueba: 0.6987179517745972\n"
     ]
    }
   ],
   "source": [
    "\n",
    "# Evaluar el modelo\n",
    "test_loss, test_acc = model.evaluate(X_test, y_test)\n",
    "print(f\"Precisión en el conjunto de prueba: {test_acc}\")"
   ]
  },
  {
   "cell_type": "markdown",
   "metadata": {},
   "source": [
    "#### Guardamos el modelo"
   ]
  },
  {
   "cell_type": "code",
   "execution_count": 57,
   "metadata": {},
   "outputs": [],
   "source": [
    "model.save('gender_classification_model.keras')"
   ]
  },
  {
   "cell_type": "markdown",
   "metadata": {},
   "source": [
    "#### Nuestra camara"
   ]
  },
  {
   "cell_type": "code",
   "execution_count": 58,
   "metadata": {},
   "outputs": [],
   "source": [
    "# Función que toma un frame de nuetra camara\n",
    "def capture_image():\n",
    "    # Iniciar la captura de video (0 es usualmente el índice de la cámara por defecto)\n",
    "    cap = cv2.VideoCapture(0)\n",
    "\n",
    "    if not cap.isOpened():\n",
    "        print(\"No se pudo abrir la cámara\")\n",
    "        exit()\n",
    "\n",
    "    print(\"La cámara se abrió correctamente\")\n",
    "\n",
    "    while True:\n",
    "        ret, frame = cap.read()\n",
    "        \n",
    "        cv2.imwrite('frame.jpg', frame)\n",
    "        print(\"Frame capturado y guardado como 'frame.jpg'\")\n",
    "\n",
    "        break\n",
    "        \n",
    "    # Liberar la captura\n",
    "    cap.release()\n",
    "    print(\"Captura liberada correctamente\")\n",
    "    return frame\n"
   ]
  },
  {
   "cell_type": "code",
   "execution_count": 59,
   "metadata": {},
   "outputs": [
    {
     "data": {
      "text/plain": [
       "\"\\n# Probamos que nuestra camara este funcionando \\ncaptured_image = capture_image()\\ncaptured_image = cv2.cvtColor(captured_image, cv2.COLOR_BGR2RGB)\\nplt.title('Imagen Capturada')\\nplt.imshow(captured_image)\\nplt.axis('off')\\nplt.show() \\n\\n\""
      ]
     },
     "execution_count": 59,
     "metadata": {},
     "output_type": "execute_result"
    }
   ],
   "source": [
    "'''\n",
    "# Probamos que nuestra camara este funcionando \n",
    "captured_image = capture_image()\n",
    "captured_image = cv2.cvtColor(captured_image, cv2.COLOR_BGR2RGB)\n",
    "plt.title('Imagen Capturada')\n",
    "plt.imshow(captured_image)\n",
    "plt.axis('off')\n",
    "plt.show() \n",
    "\n",
    "'''"
   ]
  },
  {
   "cell_type": "markdown",
   "metadata": {},
   "source": [
    "#### Testeamos el modelo con nuestra camara"
   ]
  },
  {
   "cell_type": "code",
   "execution_count": 60,
   "metadata": {},
   "outputs": [],
   "source": [
    "# captured_image = capture_image()\n",
    "# captured_image = cv2.cvtColor(captured_image, cv2.COLOR_BGR2RGB)\n",
    "# image = cv2.cvtColor(captured_image, cv2.COLOR_BGR2GRAY)\n",
    "# image = cv2.resize(image, (64, 64))\n",
    "# image = image / 255.0\n",
    "# image = np.expand_dims(image, axis=-1)  # Añadir dimensión para el canal\n",
    "# image = np.expand_dims(image, axis=0)\n",
    "# model = tf.keras.models.load_model('gender_classification_model.keras')\n",
    "# prediction = model.predict(image)\n",
    "# gender = 'Hombre' if prediction[0] <= 0.5 else \"Mujer\"\n",
    "# print(f\"Predicción: {gender} ({prediction[0]})\")\n",
    "# plt.title(f\"Predicción: {gender}({prediction[0]})\")\n",
    "# plt.imshow(captured_image)\n",
    "# plt.axis('off')\n",
    "# plt.show() "
   ]
  },
  {
   "cell_type": "markdown",
   "metadata": {},
   "source": [
    "#### Convertimos a TF Lite\n"
   ]
  },
  {
   "cell_type": "code",
   "execution_count": 61,
   "metadata": {},
   "outputs": [
    {
     "name": "stdout",
     "output_type": "stream",
     "text": [
      "\u001b[1m64/64\u001b[0m \u001b[32m━━━━━━━━━━━━━━━━━━━━\u001b[0m\u001b[37m\u001b[0m \u001b[1m1s\u001b[0m 5ms/step - accuracy: 0.7072 - loss: 1.0153\n",
      "Precisión en el conjunto de prueba: 0.6987179517745972\n",
      "INFO:tensorflow:Assets written to: C:\\Users\\ivoto\\AppData\\Local\\Temp\\tmp4c0ngka3\\assets\n"
     ]
    },
    {
     "name": "stderr",
     "output_type": "stream",
     "text": [
      "INFO:tensorflow:Assets written to: C:\\Users\\ivoto\\AppData\\Local\\Temp\\tmp4c0ngka3\\assets\n"
     ]
    },
    {
     "name": "stdout",
     "output_type": "stream",
     "text": [
      "Saved artifact at 'C:\\Users\\ivoto\\AppData\\Local\\Temp\\tmp4c0ngka3'. The following endpoints are available:\n",
      "\n",
      "* Endpoint 'serve'\n",
      "  args_0 (POSITIONAL_ONLY): TensorSpec(shape=(None, 64, 64, 1), dtype=tf.float32, name='input_layer_4')\n",
      "Output Type:\n",
      "  TensorSpec(shape=(None, 1), dtype=tf.float32, name=None)\n",
      "Captures:\n",
      "  2231485450576: TensorSpec(shape=(), dtype=tf.resource, name=None)\n",
      "  2231485452304: TensorSpec(shape=(), dtype=tf.resource, name=None)\n",
      "  2231485449424: TensorSpec(shape=(), dtype=tf.resource, name=None)\n",
      "  2231485451920: TensorSpec(shape=(), dtype=tf.resource, name=None)\n",
      "  2231485454032: TensorSpec(shape=(), dtype=tf.resource, name=None)\n",
      "  2231485451152: TensorSpec(shape=(), dtype=tf.resource, name=None)\n",
      "  2231485452880: TensorSpec(shape=(), dtype=tf.resource, name=None)\n",
      "  2231485450960: TensorSpec(shape=(), dtype=tf.resource, name=None)\n"
     ]
    },
    {
     "data": {
      "text/plain": [
       "6502196"
      ]
     },
     "execution_count": 61,
     "metadata": {},
     "output_type": "execute_result"
    }
   ],
   "source": [
    "# Cargar el modelo sin recompilar\n",
    "loaded_model = tf.keras.models.load_model('gender_classification_model.keras', compile=False)\n",
    "# Compilamos\n",
    "loaded_model.compile(optimizer='adam',\n",
    "              loss='binary_crossentropy',\n",
    "              metrics=['accuracy'])\n",
    "test_loss, test_acc = loaded_model.evaluate(X_test, y_test)\n",
    "print(f\"Precisión en el conjunto de prueba: {test_acc}\")\n",
    "\n",
    "#Convertir el modelo cargado a TFLite\n",
    "converter = tf.lite.TFLiteConverter.from_keras_model(loaded_model)\n",
    "tflite_model = converter.convert()\n",
    "\n",
    "# Guardamos el modelo TFLite \n",
    "open('gender_classification_model.tflite', 'wb').write(tflite_model)"
   ]
  },
  {
   "cell_type": "markdown",
   "metadata": {},
   "source": [
    "#### Evaluamos el modelo lite"
   ]
  },
  {
   "cell_type": "code",
   "execution_count": 62,
   "metadata": {},
   "outputs": [
    {
     "name": "stdout",
     "output_type": "stream",
     "text": [
      "Precisión en el conjunto de prueba: 0.4511834319526627\n"
     ]
    }
   ],
   "source": [
    "# Evaluar el modelo en el conjunto de prueba\n",
    "correct_predictions = 0\n",
    "for i in range(len(X_test)):\n",
    "    # Preprocesar la imagen de prueba (si no está ya preprocesada)\n",
    "    image = X_test[i].astype(np.float32)\n",
    "    image = np.expand_dims(image, axis=0)  # Añadir dimensión para el batch\n",
    "\n",
    "    # Determinar la predicción binaria\n",
    "    predicted_label = 0 if prediction <= 0.5 else 1\n",
    "\n",
    "    # Comparar con la etiqueta real\n",
    "    if predicted_label == y_test[i]:\n",
    "        correct_predictions += 1\n",
    "\n",
    "# Calcular la precisión\n",
    "test_acc = correct_predictions / len(X_test)\n",
    "print(f\"Precisión en el conjunto de prueba: {test_acc}\")"
   ]
  },
  {
   "cell_type": "markdown",
   "metadata": {},
   "source": [
    "#### Probamos el modelo lite con nuestra camara"
   ]
  },
  {
   "cell_type": "code",
   "execution_count": 63,
   "metadata": {},
   "outputs": [
    {
     "data": {
      "text/plain": [
       "'\\n# Probamos el modelo con nuestra camara\\ncaptured_image = capture_image()\\ncaptured_image = cv2.cvtColor(captured_image, cv2.COLOR_BGR2RGB)\\nimage = cv2.cvtColor(captured_image, cv2.COLOR_BGR2GRAY)\\nimage = cv2.resize(image, (64, 64))\\nimage = image / 255.0\\nimage = np.expand_dims(image, axis=-1)  # Añadir dimensión para el canal\\nimage = np.expand_dims(image, axis=0)\\n\\n# Convertir la imagen a FLOAT32\\nimage = image.astype(np.float32)\\n\\n# Cargar el modelo TFLite\\ninterpreter = tf.lite.Interpreter(model_path=\\'gender_classification_model.tflite\\')\\ninterpreter.allocate_tensors()\\n\\n# Obtener detalles de entrada y salida del modelo\\ninput_details = interpreter.get_input_details()\\noutput_details = interpreter.get_output_details()\\n\\n# Ejecutar la inferencia\\ninterpreter.set_tensor(input_details[0][\\'index\\'], image)\\ninterpreter.invoke()\\n\\n# Obtener el resultado de la inferencia\\noutput_data = interpreter.get_tensor(output_details[0][\\'index\\'])\\nprediction = output_data[0][0]\\n\\n# Determinar el género basado en la predicción\\ngender = \\'Hombre\\' if prediction <= 0.5 else \\'Mujer\\'\\nprint(f\"Predicción: {gender} ({prediction})\")\\n\\n# Mostrar la imagen y la predicción\\nplt.title(f\"Predicción: {gender} ({prediction})\")\\nplt.imshow(captured_image)\\nplt.axis(\\'off\\')\\nplt.show()\\n'"
      ]
     },
     "execution_count": 63,
     "metadata": {},
     "output_type": "execute_result"
    }
   ],
   "source": [
    "'''\n",
    "# Probamos el modelo con nuestra camara\n",
    "captured_image = capture_image()\n",
    "captured_image = cv2.cvtColor(captured_image, cv2.COLOR_BGR2RGB)\n",
    "image = cv2.cvtColor(captured_image, cv2.COLOR_BGR2GRAY)\n",
    "image = cv2.resize(image, (64, 64))\n",
    "image = image / 255.0\n",
    "image = np.expand_dims(image, axis=-1)  # Añadir dimensión para el canal\n",
    "image = np.expand_dims(image, axis=0)\n",
    "\n",
    "# Convertir la imagen a FLOAT32\n",
    "image = image.astype(np.float32)\n",
    "\n",
    "# Cargar el modelo TFLite\n",
    "interpreter = tf.lite.Interpreter(model_path='gender_classification_model.tflite')\n",
    "interpreter.allocate_tensors()\n",
    "\n",
    "# Obtener detalles de entrada y salida del modelo\n",
    "input_details = interpreter.get_input_details()\n",
    "output_details = interpreter.get_output_details()\n",
    "\n",
    "# Ejecutar la inferencia\n",
    "interpreter.set_tensor(input_details[0]['index'], image)\n",
    "interpreter.invoke()\n",
    "\n",
    "# Obtener el resultado de la inferencia\n",
    "output_data = interpreter.get_tensor(output_details[0]['index'])\n",
    "prediction = output_data[0][0]\n",
    "\n",
    "# Determinar el género basado en la predicción\n",
    "gender = 'Hombre' if prediction <= 0.5 else 'Mujer'\n",
    "print(f\"Predicción: {gender} ({prediction})\")\n",
    "\n",
    "# Mostrar la imagen y la predicción\n",
    "plt.title(f\"Predicción: {gender} ({prediction})\")\n",
    "plt.imshow(captured_image)\n",
    "plt.axis('off')\n",
    "plt.show()\n",
    "'''"
   ]
  }
 ],
 "metadata": {
  "kernelspec": {
   "display_name": "base",
   "language": "python",
   "name": "python3"
  },
  "language_info": {
   "codemirror_mode": {
    "name": "ipython",
    "version": 3
   },
   "file_extension": ".py",
   "mimetype": "text/x-python",
   "name": "python",
   "nbconvert_exporter": "python",
   "pygments_lexer": "ipython3",
   "version": "3.12.2"
  }
 },
 "nbformat": 4,
 "nbformat_minor": 2
}
